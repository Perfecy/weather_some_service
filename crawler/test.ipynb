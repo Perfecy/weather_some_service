{
 "cells": [
  {
   "cell_type": "code",
   "execution_count": null,
   "metadata": {},
   "outputs": [],
   "source": [
    "from geopy.geocoders import Nominatim\n",
    "geolocator = Nominatim(user_agent=\"my_app\")\n",
    "location = geolocator.geocode(\"Moscow\")\n",
    "location\n",
    "\n",
    "\n"
   ]
  },
  {
   "cell_type": "code",
   "execution_count": null,
   "metadata": {},
   "outputs": [],
   "source": [
    "location"
   ]
  },
  {
   "cell_type": "code",
   "execution_count": null,
   "metadata": {},
   "outputs": [],
   "source": [
    "def get_cords_by_city(city:str) -> tuple:\n",
    "    location = geolocator.geocode(city)\n",
    "    return location[1]\n"
   ]
  },
  {
   "cell_type": "code",
   "execution_count": null,
   "metadata": {},
   "outputs": [],
   "source": [
    "import requests\n",
    "import config"
   ]
  },
  {
   "cell_type": "code",
   "execution_count": null,
   "metadata": {},
   "outputs": [],
   "source": [
    "requests.get('https://api.github.com').text\n"
   ]
  },
  {
   "cell_type": "code",
   "execution_count": 1,
   "metadata": {},
   "outputs": [
    {
     "name": "stdout",
     "output_type": "stream",
     "text": [
      "{'_id': ObjectId('63acf80b4e3114066821a242'), 'Weather': {'temp': -2.676666666666667, 'condition': 'smth', 'pressure_mm': 254.4150108, 'pressure_pa': 1009.8000000000001, 'humidity': 91.5, 'feels_like': -7.05, 'wind_dir': 'W', 'wind_speed': 9.25}, 'city': 'Moscow', 'date': '2022-12-29'}\n"
     ]
    }
   ],
   "source": [
    "from scheduler_grip import *"
   ]
  },
  {
   "cell_type": "code",
   "execution_count": 2,
   "metadata": {},
   "outputs": [
    {
     "name": "stdout",
     "output_type": "stream",
     "text": [
      "(59.9133301, 10.7389701)\n",
      "W\n",
      "C\n",
      "M\n",
      "U\n"
     ]
    },
    {
     "data": {
      "text/plain": [
       "{'merged': {'Weather': {'temp': -0.43833333333333346,\n",
       "   'condition': 'smth',\n",
       "   'pressure_mm': 250.27299186666667,\n",
       "   'pressure_pa': 985.5333333333333,\n",
       "   'humidity': 92.89999999999999,\n",
       "   'feels_like': -7.06,\n",
       "   'wind_dir': 'NE',\n",
       "   'wind_speed': 12.196666666666667},\n",
       "  'date': '2022-12-29',\n",
       "  'city': 'Oslo',\n",
       "  '_id': ObjectId('63ad51c61b232824235914b7')},\n",
       " 'unmerged': {'Yandex': {'temp': 1,\n",
       "   'condition': 'wet-snow',\n",
       "   'pressure_mm': 736,\n",
       "   'pressure_pa': 981,\n",
       "   'humidity': 87,\n",
       "   'feels_like': -14,\n",
       "   'wind_dir': 'S',\n",
       "   'wind_speed': 18},\n",
       "  'OpenWeather': {'temp': -0.41500000000000004,\n",
       "   'condition': 'Snow',\n",
       "   'pressure_mm': 7.403487,\n",
       "   'pressure_pa': 987,\n",
       "   'humidity': 97,\n",
       "   'feels_like': -3.28,\n",
       "   'wind_dir': 'NNE',\n",
       "   'wind_speed': 2.07},\n",
       "  'VisualCrossing': {'temp': -1.9000000000000001,\n",
       "   'condition': 'smth',\n",
       "   'pressure_mm': 7.4079876,\n",
       "   'pressure_pa': 987.6,\n",
       "   'humidity': 93.7,\n",
       "   'feels_like': -3.7,\n",
       "   'wind_dir': 'NE',\n",
       "   'wind_speed': 16.4},\n",
       "  'city': 'Oslo',\n",
       "  'date': '2022-12-29',\n",
       "  '_id': ObjectId('63ad51c61b232824235914b8')}}"
      ]
     },
     "execution_count": 2,
     "metadata": {},
     "output_type": "execute_result"
    }
   ],
   "source": [
    "get_weather_on_city('Oslo')"
   ]
  },
  {
   "cell_type": "code",
   "execution_count": 3,
   "metadata": {},
   "outputs": [],
   "source": [
    "location = get_cords_by_city('Moscow')"
   ]
  },
  {
   "cell_type": "code",
   "execution_count": 4,
   "metadata": {},
   "outputs": [],
   "source": [
    "res_vis = get_vis_crossing_weather(*location)"
   ]
  },
  {
   "cell_type": "code",
   "execution_count": 5,
   "metadata": {},
   "outputs": [],
   "source": [
    "res_yan = get_yandex_weather(*location)"
   ]
  },
  {
   "cell_type": "code",
   "execution_count": 6,
   "metadata": {},
   "outputs": [],
   "source": [
    "res_open = get_open_weather(*location)"
   ]
  },
  {
   "cell_type": "code",
   "execution_count": null,
   "metadata": {},
   "outputs": [],
   "source": [
    "res_open"
   ]
  },
  {
   "cell_type": "code",
   "execution_count": null,
   "metadata": {},
   "outputs": [],
   "source": [
    "res_vis"
   ]
  },
  {
   "cell_type": "code",
   "execution_count": null,
   "metadata": {},
   "outputs": [],
   "source": [
    "res_yan"
   ]
  },
  {
   "cell_type": "code",
   "execution_count": null,
   "metadata": {},
   "outputs": [],
   "source": [
    "# температура | осадки | давление | влажность | ощущается как | скорость ветра "
   ]
  },
  {
   "cell_type": "code",
   "execution_count": null,
   "metadata": {},
   "outputs": [],
   "source": [
    "res_open['weather'][0]['main']"
   ]
  },
  {
   "cell_type": "code",
   "execution_count": 7,
   "metadata": {},
   "outputs": [],
   "source": [
    "directions = [\n",
    "        'N', 'NNE', 'NE', 'ENE', 'E', 'ESE', 'SE', 'SSE',\n",
    "        'S', 'SSW', 'SW', 'WSW', 'W', 'WNW', 'NW', 'NNW',\n",
    "    ]\n",
    "unmerged  = {\n",
    "    'Yandex' : {\n",
    "        'temp' : res_yan['fact']['temp'],\n",
    "        'condition' : 'smth',\n",
    "        'pressure_mm' : res_yan['fact']['pressure_mm'],\n",
    "        'pressure_pa' : res_yan['fact']['pressure_pa'],\n",
    "        'humidity' : res_yan['fact']['humidity'],\n",
    "        'feels_like' :  res_yan['fact']['feels_like'],\n",
    "        'wind_dir' : res_yan['fact']['wind_dir'],\n",
    "        'wind_speed' : res_yan['fact']['wind_speed']\n",
    "    },\n",
    "    'OpenWeather' : {\n",
    "        'temp' : (res_open['main']['temp_min'] + res_open['main']['temp_max'])/2,\n",
    "        'condition' : 'smth',\n",
    "        'pressure_mm' : res_open['main']['pressure'] *  0.007501,\n",
    "        'pressure_pa' : res_open['main']['pressure'],\n",
    "        'humidity' : res_open['main']['humidity'],\n",
    "        'feels_like' :  res_open['main']['feels_like'],\n",
    "        'wind_dir' : directions[int(round(float(res_open['wind']['deg']) / 22.5)) % 16],\n",
    "        'wind_speed' : res_open['wind']['speed']\n",
    "    },\n",
    "    'VisualCrossing' : {\n",
    "        'temp' : (res_vis['days'][0]['tempmax'] + res_vis['days'][0]['tempmin'])/2,\n",
    "        'condition' : 'smth',\n",
    "        'pressure_mm' : res_vis['days'][0]['pressure'] *  0.007501,\n",
    "        'pressure_pa' : res_vis['days'][0]['pressure'],\n",
    "        'humidity' : res_vis['days'][0]['humidity'],\n",
    "        'feels_like' :  res_vis['days'][0]['feelslike'],\n",
    "        'wind_dir' : directions[int(round(float(res_vis['days'][0]['winddir']) / 22.5)) % 16],\n",
    "        'wind_speed' : res_vis['days'][0]['winddir'] #? бальные цифры\n",
    "    }\n",
    "\n",
    "}"
   ]
  },
  {
   "cell_type": "code",
   "execution_count": 8,
   "metadata": {},
   "outputs": [],
   "source": [
    "merged = {\n",
    "        \"Weather\": {\n",
    "            \"temp\": (\n",
    "                (res_vis[\"days\"][0][\"tempmax\"] + res_vis[\"days\"][0][\"tempmin\"]) / 2\n",
    "                + (res_open[\"main\"][\"temp_min\"] + res_open[\"main\"][\"temp_max\"]) / 2\n",
    "                + res_yan[\"fact\"][\"temp\"]\n",
    "            )\n",
    "            / 3,\n",
    "            \"condition\": \"smth\",\n",
    "            \"pressure_mm\": (\n",
    "                res_vis[\"days\"][0][\"pressure\"] * 0.007501\n",
    "                + res_open[\"main\"][\"pressure\"] * 0.007501\n",
    "                + res_yan[\"fact\"][\"pressure_mm\"]\n",
    "            )\n",
    "            / 3,\n",
    "            \"pressure_pa\": (\n",
    "                res_vis[\"days\"][0][\"pressure\"]\n",
    "                + res_open[\"main\"][\"pressure\"]\n",
    "                + res_yan[\"fact\"][\"pressure_pa\"]\n",
    "            )\n",
    "            / 3,\n",
    "            \"humidity\": (\n",
    "                res_vis[\"days\"][0][\"humidity\"]\n",
    "                + res_open[\"main\"][\"humidity\"]\n",
    "                + res_yan[\"fact\"][\"humidity\"]\n",
    "            )\n",
    "            / 3,\n",
    "            \"feels_like\": (\n",
    "                res_vis[\"days\"][0][\"feelslike\"]\n",
    "                + res_open[\"main\"][\"feels_like\"]\n",
    "                + res_yan[\"fact\"][\"feels_like\"]\n",
    "            )\n",
    "            / 3,\n",
    "            \"wind_dir\": Counter(\n",
    "                [\n",
    "                    directions[\n",
    "                        int(round(float(res_vis[\"days\"][0][\"winddir\"]) / 22.5)) % 16\n",
    "                    ],\n",
    "                    directions[int(round(float(res_open[\"wind\"][\"deg\"]) / 22.5)) % 16],\n",
    "                    res_yan[\"fact\"][\"wind_dir\"].upper()\n",
    "                ]\n",
    "            ).most_common(1)[0][0],\n",
    "            \"wind_speed\": (\n",
    "                res_vis[\"days\"][0][\"windspeed\"]\n",
    "                + res_open[\"wind\"][\"speed\"]\n",
    "                + res_yan[\"fact\"][\"wind_speed\"]\n",
    "            )\n",
    "            / 3,\n",
    "        },\n",
    "    }\n",
    "   \n"
   ]
  },
  {
   "cell_type": "code",
   "execution_count": 11,
   "metadata": {},
   "outputs": [
    {
     "data": {
      "text/plain": [
       "'imre'"
      ]
     },
     "execution_count": 11,
     "metadata": {},
     "output_type": "execute_result"
    }
   ],
   "source": [
    "merged.setdefault('city', 'imre')\n"
   ]
  },
  {
   "cell_type": "code",
   "execution_count": 12,
   "metadata": {},
   "outputs": [
    {
     "data": {
      "text/plain": [
       "{'Weather': {'temp': -1.8066666666666666,\n",
       "  'condition': 'smth',\n",
       "  'pressure_mm': 254.07992723333334,\n",
       "  'pressure_pa': 1008.9,\n",
       "  'humidity': 93.0,\n",
       "  'feels_like': -5.98,\n",
       "  'wind_dir': 'W',\n",
       "  'wind_speed': 8.923333333333334},\n",
       " 'city': 'imre'}"
      ]
     },
     "execution_count": 12,
     "metadata": {},
     "output_type": "execute_result"
    }
   ],
   "source": [
    "merged"
   ]
  },
  {
   "cell_type": "code",
   "execution_count": null,
   "metadata": {},
   "outputs": [],
   "source": [
    "# get_preform_russian_cities()"
   ]
  },
  {
   "cell_type": "code",
   "execution_count": null,
   "metadata": {},
   "outputs": [],
   "source": [
    "cities = config.cities\n",
    "for item in cities.items():\n",
    "    print(item[1])"
   ]
  },
  {
   "cell_type": "code",
   "execution_count": 2,
   "metadata": {},
   "outputs": [
    {
     "name": "stdout",
     "output_type": "stream",
     "text": [
      "S\n",
      "W\n",
      "C\n",
      "M\n",
      "U\n",
      "S\n",
      "W\n",
      "C\n",
      "M\n",
      "U\n",
      "S\n",
      "W\n",
      "C\n",
      "M\n",
      "U\n",
      "S\n",
      "W\n",
      "C\n",
      "M\n",
      "U\n",
      "S\n",
      "W\n",
      "C\n",
      "M\n",
      "U\n",
      "S\n",
      "W\n",
      "C\n",
      "M\n",
      "U\n",
      "S\n",
      "W\n",
      "C\n",
      "M\n",
      "U\n",
      "S\n",
      "W\n",
      "C\n",
      "M\n",
      "U\n",
      "S\n",
      "W\n",
      "C\n",
      "M\n",
      "U\n",
      "S\n",
      "W\n",
      "C\n",
      "M\n",
      "U\n",
      "S\n",
      "W\n",
      "C\n",
      "M\n",
      "U\n",
      "S\n",
      "W\n",
      "C\n",
      "M\n",
      "U\n",
      "S\n",
      "W\n",
      "C\n",
      "M\n",
      "U\n",
      "S\n",
      "W\n",
      "C\n",
      "M\n",
      "U\n",
      "S\n",
      "W\n",
      "C\n",
      "M\n",
      "U\n",
      "S\n",
      "W\n",
      "C\n",
      "M\n",
      "U\n",
      "S\n",
      "W\n",
      "C\n",
      "M\n",
      "U\n",
      "S\n",
      "W\n",
      "C\n",
      "M\n",
      "U\n",
      "S\n",
      "W\n",
      "C\n",
      "M\n",
      "U\n",
      "S\n",
      "W\n",
      "C\n",
      "M\n",
      "U\n"
     ]
    },
    {
     "data": {
      "text/plain": [
       "20"
      ]
     },
     "execution_count": 2,
     "metadata": {},
     "output_type": "execute_result"
    }
   ],
   "source": [
    "get_preform_russian_cities_and_store_data()"
   ]
  },
  {
   "cell_type": "code",
   "execution_count": 4,
   "metadata": {},
   "outputs": [
    {
     "data": {
      "text/plain": [
       "{'_id': ObjectId('63acf80b4e3114066821a242'),\n",
       " 'Weather': {'temp': -2.676666666666667,\n",
       "  'condition': 'smth',\n",
       "  'pressure_mm': 254.4150108,\n",
       "  'pressure_pa': 1009.8000000000001,\n",
       "  'humidity': 91.5,\n",
       "  'feels_like': -7.05,\n",
       "  'wind_dir': 'W',\n",
       "  'wind_speed': 9.25},\n",
       " 'city': 'Moscow',\n",
       " 'date': '2022-12-29'}"
      ]
     },
     "execution_count": 4,
     "metadata": {},
     "output_type": "execute_result"
    },
    {
     "name": "stderr",
     "output_type": "stream",
     "text": [
      "2022-12-29 07:11:59,275| ERROR   | Could not establish connection from local ('127.0.0.1', 55534) to remote ('0.0.0.0', 27017) side of the tunnel: open new channel ssh error: Timeout opening channel.\n",
      "2022-12-29 07:12:06,780| ERROR   | Could not establish connection from local ('127.0.0.1', 55534) to remote ('0.0.0.0', 27017) side of the tunnel: open new channel ssh error: Timeout opening channel.\n",
      "2022-12-29 07:12:19,373| ERROR   | Could not establish connection from local ('127.0.0.1', 55534) to remote ('0.0.0.0', 27017) side of the tunnel: open new channel ssh error: Timeout opening channel.\n",
      "2022-12-29 07:12:26,834| ERROR   | Could not establish connection from local ('127.0.0.1', 55534) to remote ('0.0.0.0', 27017) side of the tunnel: open new channel ssh error: Timeout opening channel.\n",
      "2022-12-29 07:12:39,508| ERROR   | Could not establish connection from local ('127.0.0.1', 55534) to remote ('0.0.0.0', 27017) side of the tunnel: open new channel ssh error: Timeout opening channel.\n",
      "2022-12-29 07:12:46,960| ERROR   | Could not establish connection from local ('127.0.0.1', 55534) to remote ('0.0.0.0', 27017) side of the tunnel: open new channel ssh error: Timeout opening channel.\n",
      "2022-12-29 07:12:59,602| ERROR   | Could not establish connection from local ('127.0.0.1', 55534) to remote ('0.0.0.0', 27017) side of the tunnel: open new channel ssh error: Timeout opening channel.\n",
      "2022-12-29 07:13:07,053| ERROR   | Could not establish connection from local ('127.0.0.1', 55534) to remote ('0.0.0.0', 27017) side of the tunnel: open new channel ssh error: Timeout opening channel.\n",
      "2022-12-29 07:13:19,709| ERROR   | Could not establish connection from local ('127.0.0.1', 55534) to remote ('0.0.0.0', 27017) side of the tunnel: open new channel ssh error: Timeout opening channel.\n"
     ]
    }
   ],
   "source": [
    "merged_data.find_one({\"city\": \"Moscow\"})"
   ]
  },
  {
   "cell_type": "code",
   "execution_count": null,
   "metadata": {},
   "outputs": [],
   "source": [
    "print(merged_data)"
   ]
  }
 ],
 "metadata": {
  "kernelspec": {
   "display_name": "Python 3",
   "language": "python",
   "name": "python3"
  },
  "language_info": {
   "codemirror_mode": {
    "name": "ipython",
    "version": 3
   },
   "file_extension": ".py",
   "mimetype": "text/x-python",
   "name": "python",
   "nbconvert_exporter": "python",
   "pygments_lexer": "ipython3",
   "version": "3.8.9"
  },
  "orig_nbformat": 4,
  "vscode": {
   "interpreter": {
    "hash": "31f2aee4e71d21fbe5cf8b01ff0e069b9275f58929596ceb00d14d90e3e16cd6"
   }
  }
 },
 "nbformat": 4,
 "nbformat_minor": 2
}
